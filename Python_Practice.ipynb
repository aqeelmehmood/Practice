{
 "cells": [
  {
   "cell_type": "markdown",
   "metadata": {},
   "source": [
    "# Home_Prcatice_17_1_21"
   ]
  },
  {
   "cell_type": "code",
   "execution_count": 1,
   "metadata": {},
   "outputs": [],
   "source": [
    "msg=\"My Name is Aqeel\""
   ]
  },
  {
   "cell_type": "code",
   "execution_count": 2,
   "metadata": {},
   "outputs": [
    {
     "data": {
      "text/plain": [
       "'My Name is Aqeel'"
      ]
     },
     "execution_count": 2,
     "metadata": {},
     "output_type": "execute_result"
    }
   ],
   "source": [
    "msg"
   ]
  },
  {
   "cell_type": "code",
   "execution_count": 3,
   "metadata": {},
   "outputs": [],
   "source": [
    "msg2=\"He is a Good Boy\""
   ]
  },
  {
   "cell_type": "code",
   "execution_count": 4,
   "metadata": {},
   "outputs": [
    {
     "data": {
      "text/plain": [
       "'He is a Good Boy'"
      ]
     },
     "execution_count": 4,
     "metadata": {},
     "output_type": "execute_result"
    }
   ],
   "source": [
    "msg2"
   ]
  },
  {
   "cell_type": "code",
   "execution_count": 16,
   "metadata": {},
   "outputs": [
    {
     "name": "stdout",
     "output_type": "stream",
     "text": [
      "Enter a Desired Number 1  5\n",
      "Enter a Desired Number 2  7\n"
     ]
    }
   ],
   "source": [
    "num1=input(\"Enter a Desired Number 1  \")\n",
    "num2=input(\"Enter a Desired Number 2  \")\n",
    "#num1=4\n",
    "#num2=5\n",
    "num3=int(num1)+int(num2)\n"
   ]
  },
  {
   "cell_type": "code",
   "execution_count": 17,
   "metadata": {},
   "outputs": [
    {
     "name": "stdout",
     "output_type": "stream",
     "text": [
      "12\n"
     ]
    }
   ],
   "source": [
    "print(num3)"
   ]
  },
  {
   "cell_type": "code",
   "execution_count": 18,
   "metadata": {},
   "outputs": [
    {
     "name": "stdout",
     "output_type": "stream",
     "text": [
      "The sum of 5 and 7 is 12\n"
     ]
    }
   ],
   "source": [
    "print('The sum of {0} and {1} is {2}'.format(num1, num2, num3))"
   ]
  },
  {
   "cell_type": "code",
   "execution_count": 22,
   "metadata": {},
   "outputs": [],
   "source": [
    "fsq=6\n",
    "result=6**2"
   ]
  },
  {
   "cell_type": "code",
   "execution_count": 23,
   "metadata": {},
   "outputs": [
    {
     "name": "stdout",
     "output_type": "stream",
     "text": [
      "36\n"
     ]
    }
   ],
   "source": [
    "print(result)"
   ]
  },
  {
   "cell_type": "code",
   "execution_count": 26,
   "metadata": {},
   "outputs": [
    {
     "name": "stdout",
     "output_type": "stream",
     "text": [
      "Enter a Number7\n"
     ]
    }
   ],
   "source": [
    "num4=float(input(\"Enter a Number\"))"
   ]
  },
  {
   "cell_type": "code",
   "execution_count": 27,
   "metadata": {},
   "outputs": [],
   "source": [
    "res=num4**0.5"
   ]
  },
  {
   "cell_type": "code",
   "execution_count": 28,
   "metadata": {},
   "outputs": [
    {
     "data": {
      "text/plain": [
       "2.6457513110645907"
      ]
     },
     "execution_count": 28,
     "metadata": {},
     "output_type": "execute_result"
    }
   ],
   "source": [
    "res"
   ]
  },
  {
   "cell_type": "code",
   "execution_count": 31,
   "metadata": {},
   "outputs": [
    {
     "name": "stdout",
     "output_type": "stream",
     "text": [
      "Enter a First Number5\n",
      "Enter a Second Number8\n"
     ]
    },
    {
     "data": {
      "text/plain": [
       "13"
      ]
     },
     "execution_count": 31,
     "metadata": {},
     "output_type": "execute_result"
    }
   ],
   "source": [
    "Number1=int(input(\"Enter a First Number\"))\n",
    "Number2=int(input(\"Enter a Second Number\"))\n",
    "re1=Number1+Number2\n",
    "re1"
   ]
  },
  {
   "cell_type": "code",
   "execution_count": 40,
   "metadata": {},
   "outputs": [
    {
     "name": "stdout",
     "output_type": "stream",
     "text": [
      "Enter a First Number : 34\n",
      "Enter a Second Number : 67\n",
      "Enter a Number : 4\n",
      "0.5074626865671642\n"
     ]
    }
   ],
   "source": [
    "N1=float(input(\"Enter a First Number : \"))\n",
    "N2=float(input(\"Enter a Second Number : \"))\n",
    "msg=\"What do You Want press '1' for addition, press '2' for subtraction,press 3 for Mutiply,press 4 for Division\"\n",
    "input1=int(input(\"Enter a Number : \"))\n",
    "if input1==1:\n",
    "    result=(N1+N2)\n",
    "elif input1==2:\n",
    "    result=(N1-N2)\n",
    "elif input1==3:\n",
    "    result=(N1*N2)\n",
    "elif input1==4:\n",
    "    result=(N1/N2)\n",
    "else:\n",
    "    print(\"Sorry\")\n",
    "print(result)\n",
    "    "
   ]
  },
  {
   "cell_type": "code",
   "execution_count": 48,
   "metadata": {},
   "outputs": [
    {
     "name": "stdout",
     "output_type": "stream",
     "text": [
      "Enter a Numbers : 1\n",
      "False\n",
      "Enter a Numbers : 2\n",
      "True\n",
      "Enter a Numbers : 3\n",
      "False\n",
      "Enter a Numbers : 4\n",
      "True\n",
      "Enter a Numbers : 5\n",
      "False\n",
      "Enter a Numbers : 6\n",
      "True\n",
      "Enter a Numbers : 7\n",
      "False\n",
      "Enter a Numbers : 8\n",
      "True\n",
      "Enter a Numbers : 9\n",
      "False\n",
      "Enter a Numbers : 0\n",
      "True\n"
     ]
    }
   ],
   "source": [
    "for i in range(10):\n",
    "    num=float(input(\"Enter a Numbers : \"))\n",
    "    even=num%2==0\n",
    "    print(even)\n",
    "    "
   ]
  },
  {
   "cell_type": "code",
   "execution_count": 52,
   "metadata": {},
   "outputs": [],
   "source": [
    "#for i in range(10):\n",
    " #   n=float(input(\"Enter a Numbers : \"))\n",
    "n=6\n",
    "n1=1\n",
    "res=n<n1"
   ]
  },
  {
   "cell_type": "code",
   "execution_count": 53,
   "metadata": {},
   "outputs": [
    {
     "name": "stdout",
     "output_type": "stream",
     "text": [
      "False\n"
     ]
    }
   ],
   "source": [
    "print(res)"
   ]
  },
  {
   "cell_type": "code",
   "execution_count": 55,
   "metadata": {},
   "outputs": [
    {
     "name": "stdout",
     "output_type": "stream",
     "text": [
      "Enter a Number : 6\n"
     ]
    }
   ],
   "source": []
  },
  {
   "cell_type": "code",
   "execution_count": null,
   "metadata": {},
   "outputs": [],
   "source": []
  }
 ],
 "metadata": {
  "kernelspec": {
   "display_name": "Python 3",
   "language": "python",
   "name": "python3"
  },
  "language_info": {
   "codemirror_mode": {
    "name": "ipython",
    "version": 3
   },
   "file_extension": ".py",
   "mimetype": "text/x-python",
   "name": "python",
   "nbconvert_exporter": "python",
   "pygments_lexer": "ipython3",
   "version": "3.7.6"
  }
 },
 "nbformat": 4,
 "nbformat_minor": 4
}
