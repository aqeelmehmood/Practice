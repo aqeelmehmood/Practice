{
 "cells": [
  {
   "cell_type": "code",
   "execution_count": 16,
   "metadata": {},
   "outputs": [],
   "source": [
    "class Car():\n",
    "# \"\"\"A simple attempt to represent a car.\"\"\"\n",
    " def __init__(self, make, model, year):\n",
    " #\"\"\"Initialize attributes to describe a car.\"\"\"\n",
    "     self.make = make\n",
    "     self.model = model\n",
    "     self.year = year\n",
    "     self.odometer_reading = 0\n",
    "\n",
    "def get_descriptive_name(self):\n",
    " #\"\"\"Return a neatly formatted descriptive name.\"\"\"\n",
    "     long_name = str(self.year) + ' ' + self.make + ' ' + self.model\n",
    "     return long_name.title()\n",
    "\n",
    "def read_odometer(self):\n",
    " #\"\"\"Print a statement showing the car's mileage.\"\"\"\n",
    "    print(\"This car has \" + str(self.odometer_reading) + \" miles on it.\")\n",
    "\n",
    "def update_odometer(self, mileage):\n",
    " \"\"\"\n",
    " Set the odometer reading to the given value.\n",
    " Reject the change if it attempts to roll the odometer back.\n",
    " \"\"\"\n",
    " if mileage >= self.odometer_reading:\n",
    "     self.odometer_reading = mileage\n",
    " else:\n",
    "     print(\"You can't roll back an odometer!\")\n",
    "\n",
    "def increment_odometer(self, miles):\n",
    " \"\"\"Add the given amount to the odometer reading.\"\"\"\n",
    " self.odometer_reading += miles"
   ]
  },
  {
   "cell_type": "code",
   "execution_count": 19,
   "metadata": {},
   "outputs": [
    {
     "name": "stdout",
     "output_type": "stream",
     "text": [
      "2016 Audi A4\n"
     ]
    }
   ],
   "source": [
    "from Car import Car\n",
    "my_new_car = Car('audi', 'a4', 2016)\n",
    "print(my_new_car.get_descriptive_name())\n",
    "my_new_car.odometer_reading = 23\n",
    "#my_new_car.read_odometer()"
   ]
  },
  {
   "cell_type": "code",
   "execution_count": 14,
   "metadata": {},
   "outputs": [],
   "source": [
    "run Car.py"
   ]
  },
  {
   "cell_type": "code",
   "execution_count": 18,
   "metadata": {},
   "outputs": [
    {
     "name": "stdout",
     "output_type": "stream",
     "text": [
      "2016 Audi A4\n"
     ]
    }
   ],
   "source": [
    "from Car import Car\n",
    "my_new_car = Car('audi', 'a4', 2016)\n",
    "print(my_new_car.get_descriptive_name())\n",
    "my_new_car.odometer_reading = 23\n",
    "#my_new_car.read_odometer()"
   ]
  },
  {
   "cell_type": "markdown",
   "metadata": {},
   "source": [
    "Files And Exceptions\n",
    "read\n",
    "write\n",
    "append"
   ]
  },
  {
   "cell_type": "code",
   "execution_count": 21,
   "metadata": {},
   "outputs": [
    {
     "name": "stdout",
     "output_type": "stream",
     "text": [
      "Aqeel Mehmood\n"
     ]
    }
   ],
   "source": [
    "with open(\"file1.txt\") as f:\n",
    "    content=f.read()\n",
    "print(content)\n",
    "    "
   ]
  },
  {
   "cell_type": "code",
   "execution_count": 27,
   "metadata": {},
   "outputs": [
    {
     "name": "stdout",
     "output_type": "stream",
     "text": [
      "Aqeel Mehmood\n",
      "Aqeel\n",
      "Aqeel Mehmood\n",
      "Aqeel\n",
      "Aqeel Mehmood\n",
      "Aqeel\n",
      "bhand\n"
     ]
    }
   ],
   "source": [
    "try:\n",
    "    with open(\"file1.txt\") as f:\n",
    "        cont=f.read()\n",
    "        print(cont)\n",
    "except FileNotFoundError:\n",
    "    print(\"No Such File\")\n",
    "    cont=\"No Content To Show\"\n",
    "\n",
    "    "
   ]
  },
  {
   "cell_type": "code",
   "execution_count": 28,
   "metadata": {},
   "outputs": [
    {
     "name": "stdout",
     "output_type": "stream",
     "text": [
      "['Aqeel Mehmood\\n', 'Aqeel\\n', 'Aqeel Mehmood\\n', 'Aqeel\\n', 'Aqeel Mehmood\\n', 'Aqeel\\n', 'bhand']\n"
     ]
    }
   ],
   "source": [
    "try:\n",
    "    with open(\"file1.txt\") as f:\n",
    "        cont=f.readlines()\n",
    "        print(cont)\n",
    "except FileNotFoundError:\n",
    "    print(\"No Such File\")\n",
    "    cont=\"No Content To Show\""
   ]
  },
  {
   "cell_type": "code",
   "execution_count": 31,
   "metadata": {},
   "outputs": [
    {
     "name": "stdout",
     "output_type": "stream",
     "text": [
      "1\n",
      "2\n",
      "3\n",
      "4\n",
      "5\n",
      "\n"
     ]
    }
   ],
   "source": [
    "try:\n",
    "    with open(\"check.csv\") as f:\n",
    "        cont=f.read()\n",
    "        print(cont)\n",
    "except FileNotFoundError:\n",
    "    print(\"No Such File\")\n",
    "    cont=\"No Content To Show\""
   ]
  },
  {
   "cell_type": "code",
   "execution_count": 34,
   "metadata": {},
   "outputs": [
    {
     "name": "stdout",
     "output_type": "stream",
     "text": [
      "Aqeel Mehmood\n",
      "Aqeel\n",
      "Aqeel Mehmood\n",
      "Aqeel\n",
      "Aqeel Mehmood\n",
      "Aqeel\n",
      "bhand\n",
      "\n",
      "[]\n"
     ]
    }
   ],
   "source": [
    "with open(\"file1.txt\") as f:\n",
    "    data=f.read()\n",
    "    data1=f.readline()\n",
    "    data2=f.readlines()\n",
    "        \n",
    "print(data)\n",
    "print(data1)\n",
    "print(data2)"
   ]
  },
  {
   "cell_type": "code",
   "execution_count": 35,
   "metadata": {},
   "outputs": [
    {
     "name": "stdout",
     "output_type": "stream",
     "text": [
      "Aqeel\n"
     ]
    }
   ],
   "source": [
    "with open(\"file1.txt\") as f:\n",
    "    data=f.read(5)\n",
    "    #data1=f.readline()\n",
    "    #data2=f.readlines()\n",
    "        \n",
    "print(data)\n",
    "#print(data1)\n",
    "#print(data2)"
   ]
  },
  {
   "cell_type": "code",
   "execution_count": 41,
   "metadata": {},
   "outputs": [
    {
     "name": "stdout",
     "output_type": "stream",
     "text": [
      "Aqeel Mehmood,1,2,3,4,5\n",
      "Aqeel Mehmood,1,2,3,4,5\n",
      "['Aqeel Mehmood,1,2,3,4,5']\n"
     ]
    }
   ],
   "source": [
    "with open(\"file1.txt\") as f:\n",
    "    data=f.read()\n",
    "    f.seek(0)\n",
    "    data1=f.readline()\n",
    "    f.seek(0)\n",
    "    data2=f.readlines()\n",
    "    f.seek(0)\n",
    "        \n",
    "print(data)\n",
    "print(data1)\n",
    "print(data2)"
   ]
  },
  {
   "cell_type": "code",
   "execution_count": 44,
   "metadata": {},
   "outputs": [],
   "source": [
    "with open(\"file1.txt\",'w') as w:\n",
    "    w.write(\"My Name is Aqeel\")# exicting file me w format me likhy gy to wo file overwrite ho jy gy"
   ]
  },
  {
   "cell_type": "code",
   "execution_count": 45,
   "metadata": {},
   "outputs": [],
   "source": [
    "with open(\"file2.txt\",'w') as w:\n",
    "    w.write(\"Aqeel Mehmood Hare\")# exicting file me w format me likhy gy to wo file overwrite ho jy gy"
   ]
  },
  {
   "cell_type": "code",
   "execution_count": 46,
   "metadata": {},
   "outputs": [],
   "source": [
    "with open(\"file3.txt\",'w') as w:\n",
    "    w.writelines(\"My Name is Aqeel\")# exicting file me w format me likhy gy to wo file overwrite ho jy gy"
   ]
  },
  {
   "cell_type": "code",
   "execution_count": 51,
   "metadata": {},
   "outputs": [
    {
     "name": "stdout",
     "output_type": "stream",
     "text": [
      "Hello I am Aqeel\n"
     ]
    }
   ],
   "source": [
    "with open(\"filre5\",'w+') as odj: # is me file hona zarori nahi hy read me hona zarori hy\n",
    "        odj.write(\"Hello I am Aqeel\")\n",
    "        odj.seek(0)\n",
    "        c=odj.read()\n",
    "print(c)\n",
    "    "
   ]
  },
  {
   "cell_type": "code",
   "execution_count": 53,
   "metadata": {},
   "outputs": [
    {
     "name": "stdout",
     "output_type": "stream",
     "text": [
      "Hello I am Aqeel\n"
     ]
    }
   ],
   "source": [
    "with open(\"filre5\",'r+') as odj: \n",
    "        odj.write(\"Hello I am Aqeel\")\n",
    "        odj.seek(0)\n",
    "        c=odj.read()\n",
    "print(c)"
   ]
  },
  {
   "cell_type": "code",
   "execution_count": 56,
   "metadata": {},
   "outputs": [],
   "source": [
    "with open(\"file3\",'a') as app:\n",
    "    app.write(\"Arshad Mehmood\")\n",
    "    app.seek(0)\n",
    "    "
   ]
  },
  {
   "cell_type": "code",
   "execution_count": 60,
   "metadata": {},
   "outputs": [
    {
     "name": "stdout",
     "output_type": "stream",
     "text": [
      "Enter the word to be replaced: Mehmood\n",
      "\n",
      "Enter the new word: Aqeel\n"
     ]
    },
    {
     "ename": "ValueError",
     "evalue": "Must have exactly one of create/read/write/append mode and at most one plus",
     "output_type": "error",
     "traceback": [
      "\u001b[1;31m---------------------------------------------------------------------------\u001b[0m",
      "\u001b[1;31mValueError\u001b[0m                                Traceback (most recent call last)",
      "\u001b[1;32m<ipython-input-60-71d91020b93a>\u001b[0m in \u001b[0;36m<module>\u001b[1;34m\u001b[0m\n\u001b[0;32m     49\u001b[0m \u001b[0mnew\u001b[0m \u001b[1;33m=\u001b[0m \u001b[0minput\u001b[0m\u001b[1;33m(\u001b[0m\u001b[1;34m\"\\nEnter the new word: \"\u001b[0m\u001b[1;33m)\u001b[0m\u001b[1;33m.\u001b[0m\u001b[0mencode\u001b[0m\u001b[1;33m(\u001b[0m\u001b[1;33m)\u001b[0m\u001b[1;33m\u001b[0m\u001b[1;33m\u001b[0m\u001b[0m\n\u001b[0;32m     50\u001b[0m \u001b[1;33m\u001b[0m\u001b[0m\n\u001b[1;32m---> 51\u001b[1;33m \u001b[0mupdate_binary\u001b[0m\u001b[1;33m(\u001b[0m\u001b[0mword\u001b[0m\u001b[1;33m,\u001b[0m \u001b[0mnew\u001b[0m\u001b[1;33m)\u001b[0m\u001b[1;33m\u001b[0m\u001b[1;33m\u001b[0m\u001b[0m\n\u001b[0m",
      "\u001b[1;32m<ipython-input-60-71d91020b93a>\u001b[0m in \u001b[0;36mupdate_binary\u001b[1;34m(word, new)\u001b[0m\n\u001b[0;32m     11\u001b[0m \u001b[1;33m\u001b[0m\u001b[0m\n\u001b[0;32m     12\u001b[0m \u001b[1;33m\u001b[0m\u001b[0m\n\u001b[1;32m---> 13\u001b[1;33m     \u001b[1;32mwith\u001b[0m \u001b[0mopen\u001b[0m\u001b[1;33m(\u001b[0m\u001b[1;34m'file10.txt'\u001b[0m\u001b[1;33m,\u001b[0m \u001b[1;34m'b'\u001b[0m\u001b[1;33m)\u001b[0m \u001b[1;32mas\u001b[0m \u001b[0mfile\u001b[0m\u001b[1;33m:\u001b[0m\u001b[1;33m\u001b[0m\u001b[1;33m\u001b[0m\u001b[0m\n\u001b[0m\u001b[0;32m     14\u001b[0m \u001b[1;33m\u001b[0m\u001b[0m\n\u001b[0;32m     15\u001b[0m         \u001b[0mpos\u001b[0m \u001b[1;33m=\u001b[0m \u001b[1;36m0\u001b[0m\u001b[1;33m\u001b[0m\u001b[1;33m\u001b[0m\u001b[0m\n",
      "\u001b[1;31mValueError\u001b[0m: Must have exactly one of create/read/write/append mode and at most one plus"
     ]
    }
   ],
   "source": [
    "# Python program to modify the\n",
    "# content of binary file\n",
    "\n",
    "\n",
    "# Function to update the\n",
    "# content of binary file\n",
    "def update_binary(word, new):\n",
    "\n",
    "    string = b\"\"\n",
    "    Flag = 0\n",
    "\n",
    "\n",
    "    with open('file10.txt', 'b') as file:\n",
    "\n",
    "        pos = 0\n",
    "\n",
    "\n",
    "        data = string = file.read(1)\n",
    "        while data:\n",
    "            data = file.read(1)\n",
    "\n",
    "            if data == b\" \":\n",
    "\n",
    "\n",
    "                if string == word:\n",
    "                    file.seek(pos)\n",
    "                    file.write(new)\n",
    "                    Flag = 1\n",
    "                    break\n",
    "                else:\n",
    "\n",
    "                    pos = file.tell()\n",
    "                    data = string = file.read(1)\n",
    "            else:\n",
    "                string += data\n",
    "            continue\n",
    "\n",
    "\n",
    "    if Flag:\n",
    "        print(\"Record successfully updated\")\n",
    "    else:\n",
    "        print(\"Record not found\")\n",
    "\n",
    "\n",
    "# Driver code\n",
    "# Input the word to be found\n",
    "# and the new word\n",
    "word = input(\"Enter the word to be replaced: \").encode()\n",
    "new = input(\"\\nEnter the new word: \").encode()\n",
    "\n",
    "update_binary(word, new)\n"
   ]
  },
  {
   "cell_type": "code",
   "execution_count": null,
   "metadata": {},
   "outputs": [],
   "source": [
    "name=\"Enter Your Guest Names\"\n",
    "with open(\"guest.txt\",'w+') as obj:\n",
    "    obj.write(\"\")\n",
    "    "
   ]
  }
 ],
 "metadata": {
  "kernelspec": {
   "display_name": "Python 3",
   "language": "python",
   "name": "python3"
  },
  "language_info": {
   "codemirror_mode": {
    "name": "ipython",
    "version": 3
   },
   "file_extension": ".py",
   "mimetype": "text/x-python",
   "name": "python",
   "nbconvert_exporter": "python",
   "pygments_lexer": "ipython3",
   "version": "3.8.5"
  }
 },
 "nbformat": 4,
 "nbformat_minor": 4
}
